{
  "nbformat": 4,
  "nbformat_minor": 0,
  "metadata": {
    "colab": {
      "provenance": []
    },
    "kernelspec": {
      "name": "python3",
      "display_name": "Python 3"
    },
    "language_info": {
      "name": "python"
    }
  },
  "cells": [
    {
      "cell_type": "code",
      "source": [
        "# Import your google drive with notebooks\n",
        "from google.colab import drive\n",
        "drive.mount('/content/drive')"
      ],
      "metadata": {
        "colab": {
          "base_uri": "https://localhost:8080/"
        },
        "id": "ACGVm8RGjr_K",
        "outputId": "a75c74ff-4be7-416f-fb49-bd33480ae9ad"
      },
      "execution_count": 1,
      "outputs": [
        {
          "output_type": "stream",
          "name": "stdout",
          "text": [
            "Mounted at /content/drive\n"
          ]
        }
      ]
    },
    {
      "cell_type": "code",
      "source": [
        "%cd 'Colab Notebooks'\n",
        "%ls"
      ],
      "metadata": {
        "colab": {
          "base_uri": "https://localhost:8080/"
        },
        "id": "FMS5VHwZ1LvW",
        "outputId": "3bad013f-7b53-4534-a1c5-2e7f7a285519"
      },
      "execution_count": 4,
      "outputs": [
        {
          "output_type": "stream",
          "name": "stdout",
          "text": [
            "/content/drive/MyDrive/Colab Notebooks\n",
            "'homework_differentiation (1).ipynb'   homework_modules.ipynb\n",
            "'homework_differentiation (2).ipynb'  'homework_test_modules (1).ipynb'\n",
            "'homework_differentiation (3).ipynb'  'homework_test_modules (2).ipynb'\n",
            "'homework_differentiation (4).ipynb'   homework_test_modules.ipynb\n",
            "'homework_differentiation (5).ipynb'   module01_basics.ipynb\n",
            " homework_differentiation.ipynb       'module02_gradient_descent (1).ipynb'\n",
            "'[homework]knn (1).ipynb'             'module02_gradient_descent (2).ipynb'\n",
            "'[homework]knn.ipynb'                  module02_gradient_descent.ipynb\n",
            " homework_main-advanced.ipynb         'module03_sin_prediction (1).ipynb'\n",
            "'homework_main-basic (1).ipynb'        module03_sin_prediction.ipynb\n",
            "'homework_main-basic (2).ipynb'        module03_wine_prediction.ipynb\n",
            "'homework_main-basic (3).ipynb'       'module04_mnist_fc (1).ipynb'\n",
            "'homework_main-basic (4).ipynb'       'module04_mnist_fc (2).ipynb'\n",
            "'homework_main-basic (5).ipynb'        module04_mnist_fc.ipynb\n",
            " homework_main-basic.ipynb            'net (1).ipynb'\n",
            "'homework_modules (10).ipynb'          net.ipynb\n",
            "'homework_modules (11).ipynb'          \u001b[0m\u001b[01;34mnn_from_scratch\u001b[0m/\n",
            "'homework_modules (12).ipynb'          Untitled\n",
            "'homework_modules (13).ipynb'          Untitled0.ipynb\n",
            "'homework_modules (14).ipynb'          Untitled10.ipynb\n",
            "'homework_modules (15).ipynb'          Untitled11.ipynb\n",
            "'homework_modules (16).ipynb'          Untitled12.ipynb\n",
            "'homework_modules (17).ipynb'          Untitled1.ipynb\n",
            "'homework_modules (1).ipynb'           Untitled2.ipynb\n",
            "'homework_modules (2).ipynb'           Untitled3.ipynb\n",
            "'homework_modules (3).ipynb'           Untitled4.ipynb\n",
            "'homework_modules (4).ipynb'           Untitled5.ipynb\n",
            "'homework_modules (5).ipynb'           Untitled6.ipynb\n",
            "'homework_modules (6).ipynb'           Untitled7.ipynb\n",
            "'homework_modules (7).ipynb'           Untitled8.ipynb\n",
            "'homework_modules (8).ipynb'           Untitled9.ipynb\n",
            "'homework_modules (9).ipynb'          'Копия блокнота \"homework_modules.ipynb\"'\n"
          ]
        }
      ]
    },
    {
      "cell_type": "code",
      "source": [
        "%run homework_modules.ipynb\n"
      ],
      "metadata": {
        "id": "Me9QhHyS1Rx2"
      },
      "execution_count": 5,
      "outputs": []
    },
    {
      "cell_type": "code",
      "source": [
        "%matplotlib inline\n",
        "!pip install mnist\n",
        "!pip install scikit-learn\n",
        "from time import time, sleep\n",
        "import numpy as np\n",
        "import matplotlib.pyplot as plt\n",
        "import pdb\n",
        "from IPython import display\n",
        "import sklearn"
      ],
      "metadata": {
        "id": "tCfvXTqB2NWX"
      },
      "execution_count": null,
      "outputs": []
    },
    {
      "cell_type": "code",
      "source": [
        "from sklearn.decomposition import PCA\n",
        "from sklearn.model_selection import train_test_split\n",
        "from sklearn.metrics import accuracy_score"
      ],
      "metadata": {
        "id": "wafIAhVJQ_4g"
      },
      "execution_count": 7,
      "outputs": []
    },
    {
      "cell_type": "code",
      "source": [
        "import mnist\n",
        "images = mnist.train_images()\n",
        "labels = mnist.train_labels()\n",
        "pca = PCA(n_components=2)\n",
        "new_features = pca.fit_transform([i.reshape(-1) for i in images])\n",
        "X_train, X_val, y_train, y_val = train_test_split(images, labels)"
      ],
      "metadata": {
        "id": "YAutcVm81lTy"
      },
      "execution_count": 9,
      "outputs": []
    },
    {
      "cell_type": "code",
      "source": [],
      "metadata": {
        "id": "6SOkoPWr1wC9"
      },
      "execution_count": null,
      "outputs": []
    },
    {
      "cell_type": "code",
      "source": [
        "net = Sequential()\n",
        "net.add(BatchNormalization())\n",
        "net.add(Linear(28*28, 100))\n",
        "#net.add(SoftPlus())\n",
        "net.add(ReLU())\n",
        "net.add(BatchNormalization())\n",
        "net.add(Linear(100, 10))\n",
        "net.add(LogSoftMax())\n",
        "\n",
        "criterion = ClassNLLCriterion()\n",
        "\n",
        "print(net)"
      ],
      "metadata": {
        "colab": {
          "base_uri": "https://localhost:8080/"
        },
        "id": "lSK1uICaiY05",
        "outputId": "5cc4bf1d-6169-4fe2-d973-a582aec01f06"
      },
      "execution_count": 36,
      "outputs": [
        {
          "output_type": "stream",
          "name": "stdout",
          "text": [
            "BatchNormalization\n",
            "Linear 784 -> 100\n",
            "ReLU\n",
            "BatchNormalization\n",
            "Linear 100 -> 10\n",
            "LogSoftMax\n",
            "\n"
          ]
        }
      ]
    },
    {
      "cell_type": "code",
      "source": [
        "# Optimizer params\n",
        "optimizer_config = {'learning_rate' : 1e-2, 'beta1': 0.9, 'beta2':0.999, 'epsilon':1e-8}\n",
        "optimizer_state = {}\n",
        "\n",
        "# Looping params\n",
        "n_epoch = 20\n",
        "batch_size = 600"
      ],
      "metadata": {
        "id": "qb1s2Yki040D"
      },
      "execution_count": 37,
      "outputs": []
    },
    {
      "cell_type": "code",
      "source": [
        "# batch generator\n",
        "def get_batches(dataset, batch_size):\n",
        "    X, Y = dataset\n",
        "    n_samples = X.shape[0]\n",
        "\n",
        "    # Shuffle at the start of epoch\n",
        "    indices = np.arange(n_samples)\n",
        "    np.random.shuffle(indices)\n",
        "\n",
        "    for start in range(0, n_samples, batch_size):\n",
        "        end = min(start + batch_size, n_samples)\n",
        "\n",
        "        batch_idx = indices[start:end]\n",
        "\n",
        "        yield X[batch_idx], Y[batch_idx]"
      ],
      "metadata": {
        "id": "m3fCFxxt0pPY"
      },
      "execution_count": 38,
      "outputs": []
    },
    {
      "cell_type": "code",
      "source": [],
      "metadata": {
        "id": "JtbZAr9nmQjd"
      },
      "execution_count": null,
      "outputs": []
    },
    {
      "cell_type": "code",
      "source": [
        "import pdb\n",
        "%pdb on\n",
        "train_loss_history = []\n",
        "val_loss_history = [0,]\n",
        "val_acc_history = [0,]\n",
        "steps = [0,]\n",
        "\n",
        "\n",
        "\n",
        "for i in range(n_epoch):\n",
        "    steps.append(steps[-1])\n",
        "    for x_batch, y_batch in get_batches((X_train, y_train), batch_size):\n",
        "        #pdb.set_trace()\n",
        "        net.zeroGradParameters()\n",
        "        x_batch = x_batch.reshape(-1, 28*28)\n",
        "\n",
        "        # Forward\n",
        "        predictions = net.forward(x_batch)\n",
        "        target = np.zeros((batch_size, 10), np.float32)\n",
        "        target[np.arange(batch_size), y_batch] = 1  # one-hot encoding\n",
        "        loss = criterion.forward(predictions, target)\n",
        "\n",
        "        # Backward\n",
        "        dp = criterion.backward(predictions, target)\n",
        "        net.backward(x_batch, dp)\n",
        "\n",
        "        # Update weights\n",
        "        adam_optimizer(net.getParameters(),\n",
        "                net.getGradParameters(),\n",
        "                optimizer_config,\n",
        "                optimizer_state)\n",
        "\n",
        "        train_loss_history.append(loss)\n",
        "        steps[-1] += 1\n",
        "\n",
        "    sum_loss = 0\n",
        "    sum_acc = 0\n",
        "    count_val_steps = 0\n",
        "    for x_batch, y_batch in get_batches((X_val, y_val), batch_size):\n",
        "        x_batch = x_batch.reshape(-1, 28*28)\n",
        "\n",
        "        predictions = net.forward(x_batch)\n",
        "        target = np.zeros((batch_size, 10), np.float32)\n",
        "        target[np.arange(batch_size), y_batch] = 1  # one-hot encoding\n",
        "\n",
        "        loss = criterion.forward(predictions, target)\n",
        "        sum_loss += loss\n",
        "        sum_acc += accuracy_score(y_batch, np.argmax(predictions, axis=1))\n",
        "        count_val_steps += 1\n",
        "\n",
        "    val_loss_history.append(sum_loss / count_val_steps)\n",
        "    val_acc_history.append(sum_acc / count_val_steps)\n",
        "\n",
        "    # Visualize\n",
        "    display.clear_output(wait=True)\n",
        "    fig, ax = plt.subplots(1, 3, figsize=(15, 5))\n",
        "\n",
        "    ax[0].set_title(\"Training loss\")\n",
        "    ax[0].set_xlabel(\"#iteration\")\n",
        "    ax[0].set_ylabel(\"loss\")\n",
        "    ax[0].plot(train_loss_history, 'b')\n",
        "    ax[0].grid()\n",
        "\n",
        "    ax[1].set_title(\"Validation loss\")\n",
        "    ax[1].set_xlabel(\"#iteration\")\n",
        "    ax[1].set_ylabel(\"loss\")\n",
        "    ax[1].plot(steps, val_loss_history, 'b')\n",
        "    ax[1].grid()\n",
        "\n",
        "    ax[2].set_title(\"Validation Accuracy\")\n",
        "    ax[2].set_xlabel(\"#iteration\")\n",
        "    ax[2].set_ylabel(\"accuracy\")\n",
        "    ax[2].plot(steps, val_acc_history, 'b')\n",
        "    ax[2].grid()\n",
        "\n",
        "    plt.show()\n",
        "\n",
        "    print('Current loss: %f' % (sum_loss / count_val_steps))\n",
        "\n"
      ],
      "metadata": {
        "colab": {
          "base_uri": "https://localhost:8080/",
          "height": 399
        },
        "id": "fDONMgzSmRIn",
        "outputId": "451f9b36-fb47-4b12-d8e1-deb3f96dbc7c"
      },
      "execution_count": 39,
      "outputs": [
        {
          "output_type": "display_data",
          "data": {
            "text/plain": [
              "<Figure size 1500x500 with 3 Axes>"
            ],
            "image/png": "[encoded data removed]"
          },
          "metadata": {}
        },
        {
          "output_type": "stream",
          "name": "stdout",
          "text": [
            "Current loss: 0.129804\n"
          ]
        }
      ]
    },
    {
      "cell_type": "code",
      "source": [],
      "metadata": {
        "id": "TwZPqaoBkOUz"
      },
      "execution_count": null,
      "outputs": []
    }
  ]
}