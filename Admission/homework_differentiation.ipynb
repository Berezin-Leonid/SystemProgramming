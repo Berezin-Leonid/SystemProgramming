{
  "cells": [
    {
      "cell_type": "markdown",
      "metadata": {
        "id": "KiLaeZGnVKLW"
      },
      "source": [
        "# Homework 1: Differentiation"
      ]
    },
    {
      "cell_type": "markdown",
      "metadata": {
        "id": "BEHSrNPsVKLZ"
      },
      "source": [
        "Since it easy to google every task please please please try to undestand what's going on. The \"just answer\" thing will be not counted, make sure to present derivation of your solution. It is absolutely OK if you found an answer on web then just exercise in $\\LaTeX$ copying it into here."
      ]
    },
    {
      "cell_type": "markdown",
      "metadata": {
        "id": "2pHzs18wVKLa"
      },
      "source": [
        "Useful links:\n",
        "[1](http://www.machinelearning.ru/wiki/images/2/2a/Matrix-Gauss.pdf)\n",
        "[2](http://www.atmos.washington.edu/~dennis/MatrixCalculus.pdf)\n",
        "[3](http://cal.cs.illinois.edu/~johannes/research/matrix%20calculus.pdf)\n",
        "[4](http://research.microsoft.com/en-us/um/people/cmbishop/prml/index.htm)"
      ]
    },
    {
      "cell_type": "markdown",
      "metadata": {
        "id": "vk6vzWRoVKLa"
      },
      "source": [
        "## ex. 1"
      ]
    },
    {
      "cell_type": "markdown",
      "metadata": {
        "id": "GhAXjgroVKLb"
      },
      "source": [
        "$$  \n",
        "y = x^Tx,  \\quad x \\in \\mathbb{R}^N\n",
        "$$"
      ]
    },
    {
      "cell_type": "markdown",
      "metadata": {
        "id": "pxx2R8HWVKLb"
      },
      "source": [
        "$$\n",
        "\\frac{dy}{dx} = \\frac{d(x^Tx)}{dx} = \\frac{d(x^T)x + x^Tdx}{dx} = \\frac{(dx)^Tx + x^Tdx}{dx} = \\frac{x^Tdx + x^Tdx}{dx} = 2x^T\n",
        "$$"
      ]
    },
    {
      "cell_type": "markdown",
      "source": [
        "\n",
        "New Answer:$$\\frac{d}{dx}{x^Tx} = \\frac{d}{dx}{ \\sum \\limits_{i = 0} ^nx_ix_i } = \\{\\frac{dx_{i}^2}{dx_i}{    } \\}_{i=0}^{N} = \\{2x_i\\}_{i=0}^{N} = 2x^T\n",
        "$$"
      ],
      "metadata": {
        "id": "vCO3xyihcqU_"
      }
    },
    {
      "cell_type": "code",
      "execution_count": null,
      "metadata": {
        "collapsed": true,
        "id": "GRCioYKJVKLb"
      },
      "outputs": [],
      "source": []
    },
    {
      "cell_type": "markdown",
      "metadata": {
        "id": "FHHytxvQVKLc"
      },
      "source": [
        "## ex. 2"
      ]
    },
    {
      "cell_type": "markdown",
      "metadata": {
        "id": "aRgSfEsQVKLc"
      },
      "source": [
        "$$ y = tr(AB) \\quad A,B \\in \\mathbb{R}^{N \\times N} $$"
      ]
    },
    {
      "cell_type": "markdown",
      "metadata": {
        "id": "fSxj3u04VKLc"
      },
      "source": [
        "$$\n",
        "\\frac{dy}{dA} = \\frac{d(tr(AB))}{dA}= \\frac{d\\langle A^T,B \\rangle}{dA} = \\frac{\\langle dA^T, B \\rangle}{dA} = B^T\n",
        "$$"
      ]
    },
    {
      "cell_type": "markdown",
      "source": [
        "\n",
        "New Anwer:$$\n",
        "\\frac{d}{dA}{tr(AB)} = \\frac{d}{dA}{tr(\\{ \\sum_{k=0}^{n}a_{ik}b_{kj} \\}_{ij}) } =  \\frac{d}{dA}{\\{ \\sum_{k=0}^{n}a_{jk}b_{ki} \\}_{ij} } = \\{ \\frac{ \\sum_{k=0}^{n}b_{ki}da_{jk}}{da_{ij}} \\}_{ij} = \\{b_{ji} \\}_{ij} = B^T\n",
        "$$\n"
      ],
      "metadata": {
        "id": "3ygzJ4gph3Pd"
      }
    },
    {
      "cell_type": "code",
      "execution_count": null,
      "metadata": {
        "collapsed": true,
        "id": "-ZEt5UxEVKLd"
      },
      "outputs": [],
      "source": []
    },
    {
      "cell_type": "markdown",
      "metadata": {
        "id": "OC8yj05nVKLd"
      },
      "source": [
        "## ex. 3"
      ]
    },
    {
      "cell_type": "markdown",
      "metadata": {
        "id": "gX8mEyIOVKLd"
      },
      "source": [
        "$$  \n",
        "y = x^TAc , \\quad A\\in \\mathbb{R}^{N \\times N}, x\\in \\mathbb{R}^{N}, c\\in \\mathbb{R}^{N}\n",
        "$$"
      ]
    },
    {
      "cell_type": "markdown",
      "source": [],
      "metadata": {
        "id": "MTuj1WtZcxVz"
      }
    },
    {
      "cell_type": "markdown",
      "metadata": {
        "id": "an4XTD3tVKLe"
      },
      "source": [
        "$$\n",
        "\\frac{dy}{dA} =\\frac{d}{dA}{tr(Acx^T)}= \\frac{d}{dA}{\\langle A^T, cx^T\\rangle} = (cx^T)^T = xc^T\n",
        "$$"
      ]
    },
    {
      "cell_type": "markdown",
      "source": [
        "$$\n",
        "\\frac{dy}{dx}=\\frac{d}{dx}{tr(Acx^T)}=\\frac{d}{dx}{tr(x^TAc)}= \\frac{d}{dx}{\\langle x^T, Ac\\rangle} =c^TA^T\n",
        "$$"
      ],
      "metadata": {
        "id": "FtirQBZ7c1Ao"
      }
    },
    {
      "cell_type": "markdown",
      "source": [
        "New Answer:\n",
        "$$\n",
        "\\frac{d}{dA}{x^TAc} =\n",
        "$$\n",
        "cause dimension is 1x1\n",
        "$$\n",
        " = \\frac{d}{dA}{tr(x^TAc)} = \\frac{d}{dA}{tr(Acx^T)} = xc^T\n",
        "$$\n",
        "The answer follows from Exercise 1"
      ],
      "metadata": {
        "id": "3vU4Ev0mmGX5"
      }
    },
    {
      "cell_type": "markdown",
      "metadata": {
        "id": "FM4AMStXVKLe"
      },
      "source": [
        "Hint for the latter (one of the ways): use *ex. 2* result and the fact\n",
        "$$\n",
        "tr(ABC) = tr (CAB)\n",
        "$$"
      ]
    },
    {
      "cell_type": "code",
      "execution_count": null,
      "metadata": {
        "collapsed": true,
        "id": "CJ9MEyNRVKLe"
      },
      "outputs": [],
      "source": []
    },
    {
      "cell_type": "markdown",
      "metadata": {
        "id": "4SD1fJwJVKLf"
      },
      "source": [
        "## ex. 4"
      ]
    },
    {
      "cell_type": "markdown",
      "metadata": {
        "id": "N5S4BFC2VKLf"
      },
      "source": [
        "Classic matrix factorization example. Given matrix $X$ you need to find $A$, $S$ to approximate $X$. This can be done by simple gradient descent iteratively alternating $A$ and $S$ updates.\n",
        "$$\n",
        "J = || X - AS ||_F^2  , \\quad A\\in \\mathbb{R}^{N \\times R} , \\quad S\\in \\mathbb{R}^{R \\times M}\n",
        "$$\n",
        "$$\n",
        "\\frac{dJ}{dS} = ?\n",
        "$$"
      ]
    },
    {
      "cell_type": "markdown",
      "metadata": {
        "id": "wgiwWgGGVKLf"
      },
      "source": [
        "### First approach\n",
        "Using ex.2 and the fact:\n",
        "$$\n",
        "|| X ||_F^2 = tr(XX^T)\n",
        "$$\n",
        "it is easy to derive gradients (you can find it in one of the refs)."
      ]
    },
    {
      "cell_type": "markdown",
      "metadata": {
        "collapsed": true,
        "id": "QapE0qD2VKLf"
      },
      "source": [
        "### Second approach\n",
        "You can use *slightly different techniques* if they suits you. Take a look at this derivation:\n",
        "<img src=\"grad.png\">\n",
        "(excerpt from [Handbook of blind source separation, Jutten, page 517](https://books.google.ru/books?id=PTbj03bYH6kC&printsec=frontcover&dq=Handbook+of+Blind+Source+Separation&hl=en&sa=X&ved=0ahUKEwi-q_apiJDLAhULvXIKHVXJDWcQ6AEIHDAA#v=onepage&q=Handbook%20of%20Blind%20Source%20Separation&f=false), open for better picture)."
      ]
    },
    {
      "cell_type": "markdown",
      "metadata": {
        "collapsed": true,
        "id": "JsKLbHpuVKLg"
      },
      "source": [
        "### Third approach\n",
        "And finally we can use chain rule! **YOUR TURN** to do it.\n",
        "let $ F = AS $\n",
        "\n",
        "**Find**\n",
        "$$\n",
        "\\frac{dJ}{dF} = \\frac{d}{dF}{tr(MM^T)}= \\frac{d}{dF}{tr(M^TM)}= \\frac{d}{dF}{\\langle M, M\\rangle}= \\frac{\\langle dM,M\\rangle +\\langle M,dM \\rangle}{dF} \\bigg\\rvert_{M = X-F} = \\frac{\\langle -dF,X-F\\rangle +\\langle X-F,-dF \\rangle}{dF} = F-X+F-X= 2(F-X)\n",
        "$$\n",
        "and\n",
        "$$\n",
        "\\frac{dF}{dS} = \\frac{d}{dS}{AS} = \\frac {AdS}{dS}\n",
        "$$\n",
        "(the shape should be $ NM \\times RM )$.\n",
        "\n",
        "Now it is easy do get desired gradients:\n",
        "$$\n",
        "\\frac{dJ}{dS} =  \n",
        "$$"
      ]
    },
    {
      "cell_type": "markdown",
      "source": [
        "$$\n",
        "d||X||_F^2 = d \\langle X,X \\rangle = 2 \\langle X,dX \\rangle \\bigg\\rvert_{X = AS - X} = 2 \\langle AS - X, AdS \\rangle = 2 \\langle A^T(AS - X), dS \\rangle\n",
        "$$"
      ],
      "metadata": {
        "id": "oZ_W4ANseZX_"
      }
    },
    {
      "cell_type": "markdown",
      "source": [
        "$$\n",
        "df(X) = \\langle \\nabla f(X), dX \\rangle \\Longrightarrow\n",
        "$$\n",
        "$$\n",
        "\\Longrightarrow \\nabla f(X) = 2A^T(AS-X) \\Longrightarrow\n",
        "$$\n",
        "$$\n",
        "\\frac{dJ}{dS} = 2A^T(AS - X)\n",
        "$$"
      ],
      "metadata": {
        "id": "G5__fWL6fLM2"
      }
    },
    {
      "cell_type": "code",
      "execution_count": null,
      "metadata": {
        "collapsed": true,
        "id": "oOxENmWwVKLg"
      },
      "outputs": [],
      "source": []
    }
  ],
  "metadata": {
    "kernelspec": {
      "display_name": "Python 2",
      "language": "python",
      "name": "python2"
    },
    "language_info": {
      "codemirror_mode": {
        "name": "ipython",
        "version": 2
      },
      "file_extension": ".py",
      "mimetype": "text/x-python",
      "name": "python",
      "nbconvert_exporter": "python",
      "pygments_lexer": "ipython2",
      "version": "2.7.12"
    },
    "colab": {
      "provenance": []
    }
  },
  "nbformat": 4,
  "nbformat_minor": 0
}